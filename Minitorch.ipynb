{
 "cells": [
  {
   "cell_type": "code",
   "execution_count": 1,
   "metadata": {},
   "outputs": [],
   "source": [
    "import numpy as np\n",
    "import sympy as sp"
   ]
  },
  {
   "cell_type": "code",
   "execution_count": 15,
   "metadata": {},
   "outputs": [],
   "source": [
    "x, y, w, b = sp.symbols('x y w b')"
   ]
  },
  {
   "cell_type": "code",
   "execution_count": 72,
   "metadata": {},
   "outputs": [],
   "source": [
    "sigmoid = 1 / (1 + sp.exp(-x))"
   ]
  },
  {
   "cell_type": "code",
   "execution_count": 73,
   "metadata": {},
   "outputs": [
    {
     "data": {
      "text/latex": [
       "$\\displaystyle \\frac{1}{1 + e^{- x}}$"
      ],
      "text/plain": [
       "1/(1 + exp(-x))"
      ]
     },
     "execution_count": 73,
     "metadata": {},
     "output_type": "execute_result"
    }
   ],
   "source": [
    "sigmoid"
   ]
  },
  {
   "cell_type": "code",
   "execution_count": 74,
   "metadata": {},
   "outputs": [
    {
     "data": {
      "text/latex": [
       "$\\displaystyle \\frac{e^{- x}}{\\left(1 + e^{- x}\\right)^{2}}$"
      ],
      "text/plain": [
       "exp(-x)/(1 + exp(-x))**2"
      ]
     },
     "execution_count": 74,
     "metadata": {},
     "output_type": "execute_result"
    }
   ],
   "source": [
    "sp.diff(sigmoid)"
   ]
  },
  {
   "cell_type": "code",
   "execution_count": 79,
   "metadata": {},
   "outputs": [
    {
     "data": {
      "text/latex": [
       "$\\displaystyle \\frac{\\sum_{x=1}^{10} \\frac{1}{1 + e^{- x}}}{10}$"
      ],
      "text/plain": [
       "Sum(1/(1 + exp(-x)), (x, 1, 10))/10"
      ]
     },
     "execution_count": 79,
     "metadata": {},
     "output_type": "execute_result"
    }
   ],
   "source": [
    "sp.Sum(sigmoid, (x, 1, 10)) / 10"
   ]
  },
  {
   "cell_type": "code",
   "execution_count": 637,
   "metadata": {},
   "outputs": [],
   "source": [
    "\n",
    "class Relu:\n",
    "    def __call__(self, input_):\n",
    "        self.input_ = input_\n",
    "        self.output = np.clip(self.input_, 0, None)\n",
    "        return self.output\n",
    "    \n",
    "    def backward(self, output_gradient):\n",
    "      # import pdb; pdb.set_trace()  # By the way, this is how you can debug\n",
    "        self.gradient = (self.input_ > 0) * output_gradient\n",
    "        return self.gradient\n",
    "\n",
    "class MSE:\n",
    "    \n",
    "    def __init__(self):\n",
    "        pass\n",
    "    \n",
    "    def __call__(self, y_hat, y):\n",
    "        self.y_hat = y_hat\n",
    "        self.y = y\n",
    "        return 1 / len(y_hat) * np.sum((y_hat - y)**2)\n",
    "\n",
    "    def backward(self):\n",
    "        self.gradient = 2 * (self.y - self.y_hat) / len(self.y) \n",
    "        self.gradient = self.gradient.reshape(-1,1)\n",
    "        return self.gradient\n",
    "\n",
    "class Linear:\n",
    "    \n",
    "    def __init__(self, num_input, num_output):\n",
    "        self.W = np.random.randn(num_input, num_output)\n",
    "        self.b = np.random.randn(num_output)\n",
    "        \n",
    "    def __call__(self, X):\n",
    "        self.X = X\n",
    "        return X.dot(self.W) + self.b\n",
    "    \n",
    "    def backward(self, gradient):\n",
    "    \n",
    "        self.dW = self.X.T.dot(gradient)\n",
    "        self.dX = gradient.dot(self.W.T)\n",
    "        self.db = gradient.sum()\n",
    "        return self.dX\n",
    "\n",
    "class Sigmoid:\n",
    "    \n",
    "    def __init__(self):\n",
    "        pass\n",
    "    \n",
    "    def __call__(self, X):\n",
    "        self.X = X\n",
    "        return 1 / (1 + np.exp(-X))\n",
    "\n",
    "    def backward(self, gradient):\n",
    "        self.gradient = (np.exp( - self.X) / (1  + np.exp(-self.X))**2) * gradient\n",
    "        return self.gradient\n",
    "    \n",
    "class LinearRegression:\n",
    "    \n",
    "    def __init__(self, in_features, out_features):\n",
    "        \n",
    "        self.fc1 = Linear(in_features, 100)\n",
    "        self.fc2 = Linear(100, out_features)\n",
    "        self.relu = Sigmoid()\n",
    "        self.loss = MSE()\n",
    "    \n",
    "    def forward(self, X):\n",
    "        \n",
    "        x = self.fc1(X)\n",
    "        x = self.relu(x)\n",
    "        self.y_hat = self.fc2(x)\n",
    "        \n",
    "        return\n",
    "    \n",
    "    def update(self, X, y, lr = 0.0001):\n",
    "        \n",
    "        self.forward(X)\n",
    "        loss = self.loss(y, self.y_hat)\n",
    "        gradient = self.loss.backward()\n",
    "        gradient = self.fc2.backward(gradient)\n",
    "        gradient = self.relu.backward(gradient)\n",
    "        self.fc1.backward(gradient)\n",
    "        self.fc1.b -= self.fc1.db * lr\n",
    "        self.fc1.W -= self.fc1.dW * lr\n",
    "        self.fc2.b -= self.fc2.db * lr\n",
    "        self.fc2.W -= self.fc2.dW * lr\n",
    "        "
   ]
  },
  {
   "cell_type": "code",
   "execution_count": 638,
   "metadata": {},
   "outputs": [],
   "source": [
    "W_true = np.array([2.]).reshape(1,1)\n",
    "b_true = np.array([[4]])"
   ]
  },
  {
   "cell_type": "code",
   "execution_count": 639,
   "metadata": {},
   "outputs": [],
   "source": [
    "x = np.linspace(1,10,100).reshape(-1,1)"
   ]
  },
  {
   "cell_type": "code",
   "execution_count": 640,
   "metadata": {},
   "outputs": [
    {
     "data": {
      "text/plain": [
       "(100, 1)"
      ]
     },
     "execution_count": 640,
     "metadata": {},
     "output_type": "execute_result"
    }
   ],
   "source": [
    "x.shape"
   ]
  },
  {
   "cell_type": "code",
   "execution_count": 641,
   "metadata": {},
   "outputs": [],
   "source": [
    "y = x.dot(W_true) + b_true"
   ]
  },
  {
   "cell_type": "code",
   "execution_count": 642,
   "metadata": {},
   "outputs": [],
   "source": [
    "import matplotlib.pyplot as plt"
   ]
  },
  {
   "cell_type": "code",
   "execution_count": 643,
   "metadata": {},
   "outputs": [],
   "source": [
    "lr = LinearRegression(1,1)"
   ]
  },
  {
   "cell_type": "code",
   "execution_count": 644,
   "metadata": {},
   "outputs": [],
   "source": [
    "lr.forward(x)"
   ]
  },
  {
   "cell_type": "code",
   "execution_count": 645,
   "metadata": {},
   "outputs": [
    {
     "data": {
      "text/plain": [
       "<matplotlib.legend.Legend at 0x287ba03f9a0>"
      ]
     },
     "execution_count": 645,
     "metadata": {},
     "output_type": "execute_result"
    },
    {
     "data": {
      "image/png": "[encoded data removed]",
      "text/plain": [
       "<Figure size 432x288 with 1 Axes>"
      ]
     },
     "metadata": {
      "needs_background": "light"
     },
     "output_type": "display_data"
    }
   ],
   "source": [
    "plt.plot(x,y, label = 'true')\n",
    "plt.plot(x,lr.y_hat, label = 'predicted')\n",
    "plt.legend()"
   ]
  },
  {
   "cell_type": "code",
   "execution_count": 646,
   "metadata": {},
   "outputs": [
    {
     "name": "stdout",
     "output_type": "stream",
     "text": [
      "before 91.41838986242034\n",
      "after 89.3359725626519\n"
     ]
    }
   ],
   "source": [
    "print('before {}'.format(MSE()(y, lr.y_hat)))\n",
    "lr.update(x,y)\n",
    "lr.forward(x)\n",
    "print('after {}'.format(MSE()(y, lr.y_hat)))"
   ]
  },
  {
   "cell_type": "code",
   "execution_count": 647,
   "metadata": {},
   "outputs": [
    {
     "data": {
      "text/plain": [
       "<matplotlib.legend.Legend at 0x287b9c950d0>"
      ]
     },
     "execution_count": 647,
     "metadata": {},
     "output_type": "execute_result"
    },
    {
     "data": {
      "image/png": "[encoded data removed]",
      "text/plain": [
       "<Figure size 432x288 with 1 Axes>"
      ]
     },
     "metadata": {
      "needs_background": "light"
     },
     "output_type": "display_data"
    }
   ],
   "source": [
    "plt.plot(x,y, label = 'true')\n",
    "plt.plot(x,lr.y_hat, label = 'predicted')\n",
    "plt.legend()"
   ]
  },
  {
   "cell_type": "code",
   "execution_count": 648,
   "metadata": {},
   "outputs": [],
   "source": [
    "x_squared = x**2\n",
    "y = x_squared.dot(W_true) + b_true"
   ]
  },
  {
   "cell_type": "code",
   "execution_count": 649,
   "metadata": {},
   "outputs": [
    {
     "data": {
      "text/plain": [
       "[<matplotlib.lines.Line2D at 0x287b99b7f40>]"
      ]
     },
     "execution_count": 649,
     "metadata": {},
     "output_type": "execute_result"
    },
    {
     "data": {
      "image/png": "[encoded data removed]",
      "text/plain": [
       "<Figure size 432x288 with 1 Axes>"
      ]
     },
     "metadata": {
      "needs_background": "light"
     },
     "output_type": "display_data"
    }
   ],
   "source": [
    "plt.plot(x,y)"
   ]
  },
  {
   "cell_type": "code",
   "execution_count": null,
   "metadata": {},
   "outputs": [
    {
     "name": "stdout",
     "output_type": "stream",
     "text": [
      "Error at after 0 epoch is 8281.597136174554\n",
      "Error at after 50000 epoch is 0.5601602385993756\n",
      "Error at after 100000 epoch is 0.22891486347868878\n"
     ]
    }
   ],
   "source": [
    "plt.figure(figsize = (15,10))\n",
    "lr = LinearRegression(1,1)\n",
    "plt.plot(x,y, label = 'True')\n",
    "for i in range(1000001):\n",
    "    \n",
    "    lr.forward(x)\n",
    "    lr.update(x,y)\n",
    "    if i % 50000 == 0:\n",
    "        print('Error at after {} epoch is {}'.format(i, MSE()(y, lr.y_hat)))\n",
    "        plt.plot(x, lr.y_hat, label = '{} epoch'.format(i))\n",
    "\n",
    "plt.legend()\n",
    "plt.show()"
   ]
  },
  {
   "cell_type": "code",
   "execution_count": null,
   "metadata": {},
   "outputs": [],
   "source": []
  }
 ],
 "metadata": {
  "kernelspec": {
   "display_name": "Python 3",
   "language": "python",
   "name": "python3"
  },
  "language_info": {
   "codemirror_mode": {
    "name": "ipython",
    "version": 3
   },
   "file_extension": ".py",
   "mimetype": "text/x-python",
   "name": "python",
   "nbconvert_exporter": "python",
   "pygments_lexer": "ipython3",
   "version": "3.8.3"
  }
 },
 "nbformat": 4,
 "nbformat_minor": 4
}
